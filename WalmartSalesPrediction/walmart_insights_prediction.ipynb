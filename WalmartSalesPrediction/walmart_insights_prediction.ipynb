{
 "cells": [
  {
   "cell_type": "code",
   "execution_count": 2,
   "id": "5f6a84ea",
   "metadata": {},
   "outputs": [],
   "source": [
    "#import libraries\n",
    "import numpy as np\n",
    "import pandas as pd"
   ]
  },
  {
   "cell_type": "code",
   "execution_count": 16,
   "id": "4ddbff07",
   "metadata": {},
   "outputs": [
    {
     "data": {
      "text/html": [
       "<div>\n",
       "<style scoped>\n",
       "    .dataframe tbody tr th:only-of-type {\n",
       "        vertical-align: middle;\n",
       "    }\n",
       "\n",
       "    .dataframe tbody tr th {\n",
       "        vertical-align: top;\n",
       "    }\n",
       "\n",
       "    .dataframe thead th {\n",
       "        text-align: right;\n",
       "    }\n",
       "</style>\n",
       "<table border=\"1\" class=\"dataframe\">\n",
       "  <thead>\n",
       "    <tr style=\"text-align: right;\">\n",
       "      <th></th>\n",
       "      <th></th>\n",
       "      <th></th>\n",
       "      <th></th>\n",
       "      <th></th>\n",
       "      <th></th>\n",
       "      <th></th>\n",
       "      <th>&lt;&lt;&lt;&lt;&lt;&lt;&lt; HEAD</th>\n",
       "    </tr>\n",
       "  </thead>\n",
       "  <tbody>\n",
       "    <tr>\n",
       "      <th>Store</th>\n",
       "      <th>Date</th>\n",
       "      <th>Weekly_Sales</th>\n",
       "      <th>Holiday_Flag</th>\n",
       "      <th>Temperature</th>\n",
       "      <th>Fuel_Price</th>\n",
       "      <th>CPI</th>\n",
       "      <td>Unemployment</td>\n",
       "    </tr>\n",
       "    <tr>\n",
       "      <th rowspan=\"4\" valign=\"top\">1</th>\n",
       "      <th>05-02-2010</th>\n",
       "      <th>1643690.9</th>\n",
       "      <th>0</th>\n",
       "      <th>42.31</th>\n",
       "      <th>2.572</th>\n",
       "      <th>211.0963582</th>\n",
       "      <td>8.106</td>\n",
       "    </tr>\n",
       "    <tr>\n",
       "      <th>12-02-2010</th>\n",
       "      <th>1641957.44</th>\n",
       "      <th>1</th>\n",
       "      <th>38.51</th>\n",
       "      <th>2.548</th>\n",
       "      <th>211.2421698</th>\n",
       "      <td>8.106</td>\n",
       "    </tr>\n",
       "    <tr>\n",
       "      <th>19-02-2010</th>\n",
       "      <th>1611968.17</th>\n",
       "      <th>0</th>\n",
       "      <th>39.93</th>\n",
       "      <th>2.514</th>\n",
       "      <th>211.2891429</th>\n",
       "      <td>8.106</td>\n",
       "    </tr>\n",
       "    <tr>\n",
       "      <th>26-02-2010</th>\n",
       "      <th>1409727.59</th>\n",
       "      <th>0</th>\n",
       "      <th>46.63</th>\n",
       "      <th>2.561</th>\n",
       "      <th>211.3196429</th>\n",
       "      <td>8.106</td>\n",
       "    </tr>\n",
       "  </tbody>\n",
       "</table>\n",
       "</div>"
      ],
      "text/plain": [
       "                                                                               <<<<<<< HEAD\n",
       "Store Date       Weekly_Sales Holiday_Flag Temperature Fuel_Price CPI          Unemployment\n",
       "1     05-02-2010 1643690.9    0            42.31       2.572      211.0963582         8.106\n",
       "      12-02-2010 1641957.44   1            38.51       2.548      211.2421698         8.106\n",
       "      19-02-2010 1611968.17   0            39.93       2.514      211.2891429         8.106\n",
       "      26-02-2010 1409727.59   0            46.63       2.561      211.3196429         8.106"
      ]
     },
     "execution_count": 16,
     "metadata": {},
     "output_type": "execute_result"
    }
   ],
   "source": [
    "#read the dataset\n",
    "df = pd.read_csv(\"Walmart (1).csv\")\n",
    "df.head()"
   ]
  },
  {
   "cell_type": "code",
   "execution_count": null,
   "id": "dce8c901",
   "metadata": {},
   "outputs": [],
   "source": []
  }
 ],
 "metadata": {
  "kernelspec": {
   "display_name": "Python 3 (ipykernel)",
   "language": "python",
   "name": "python3"
  },
  "language_info": {
   "codemirror_mode": {
    "name": "ipython",
    "version": 3
   },
   "file_extension": ".py",
   "mimetype": "text/x-python",
   "name": "python",
   "nbconvert_exporter": "python",
   "pygments_lexer": "ipython3",
   "version": "3.9.12"
  }
 },
 "nbformat": 4,
 "nbformat_minor": 5
}
